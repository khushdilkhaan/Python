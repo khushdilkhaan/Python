{
 "cells": [
  {
   "cell_type": "markdown",
   "id": "a27a246f",
   "metadata": {},
   "source": [
    "# Introduction to Python\n",
    "\n",
    "## What is Python\n",
    "<hr>\n",
    "Python is a widely-used, interpreted, object-oriented, and high-level programming language with dynamic semantics, used for general-purpose programming.\n",
    "\n",
    "## Who created Python?\n",
    "<hr>\n",
    "One of the amazing features of Python is the fact that it is actually one person's work. Usually, new programming languages are developed and published by large companies employing lots of professionals, and due to copyright rules, it is very hard to name any of the people involved in the project. Python is an exception. <br>\n",
    "There are not many languages whose authors are known by name. Python was created by <a href=\"https://en.wikipedia.org/wiki/Guido_van_Rossum\"> Guido van Rossum</a>, born in 1956 in Haarlem, the Netherlands. Of course, Guido van Rossum did not develop and evolve all the Python components himself. <br>\n",
    "<img src=\"images/guido-van-rossum.png\" width=\"30%\" alt=\"Guido Van Rossum\">\n",
    "\n",
    "\n",
    "## Where do you use Python?\n",
    "Generally, python is a great choice for:\n",
    "\n",
    "<ul>\n",
    "    <li><strong>Web Application Development</strong> (a lot of web development frameworks Django and Flask) </li>\n",
    "    <li><strong>Data Science</strong> (Aa a highly demanded skill, Data science is now reaching the top. Python libraries like Pandas, NumPy, SciPy) </li>\n",
    "    <li><strong>Artificial Intelligence</strong> (Most interesting practical uses for Python is in Artificial Intelligence and Machine Learning. Python collection of libraries for Machine Learning Application. These include Pandas, Keras, TensorFlow, NumPy and many more) </li>\n",
    "    <li><strong>Game Development</strong></li>\n",
    "    <li><strong>Internet of Things</strong></li>\n",
    "    <li><strong>Web Scraping</strong></li>\n",
    "    <li><strong>Desktop GUI</strong></li>\n",
    "    <li><strong>Enterprise Application</strong></li>\n",
    "    <li><strong>Image Recognition and Text Processing</strong></li>\n",
    "</ul>    "
   ]
  },
  {
   "cell_type": "markdown",
   "id": "9957ab50",
   "metadata": {},
   "source": [
    "<strong>Python the Future Technology:</strong>\n",
    "<p>4th most used programming language in 2021, 44.1% of developers worked with it.</p>\n",
    "\n",
    "<strong>Top Companies using Python</strong>\n",
    "<ul>\n",
    "    <li>Google</li>\n",
    "    <li>Instagram</li>\n",
    "    <li>Facebook</li>\n",
    "    <li>Quora</li>\n",
    "    <li>Netflix</li>\n",
    "    <li>Dropbox</li>\n",
    "    <li>Reddit etc...</li>\n",
    "</ul>\n",
    "\n",
    "<strong>Source:</strong> <a href=\"https:www.botreetechnologies.com/blong/top-10-python-use-case-and-applications\">https:www.botreetechnologies.com/blong/top-10-python-use-case-and-applications</a>\n",
    "\n",
    "## Get PCAP Certified\n",
    "Becoming PCAP certified with help the certificationi holder stand out from other candidates and get their foot in the door.\n",
    "\n",
    "<img src=\"images/python-certification-roadmap.png\" alt=\"OpenEDG Python Institute Certification Roadmap\">\n",
    "\n",
    "## Natural Langauges vs. Programming Languages \n",
    "<p>A language is a means (and a tool) for expressing and recording thoughts. There are many languages all around us. Some of them require neither speaking nor writing, such as body language; it's possible to express your deepest feelings very precisely without saying a word.</p>\n",
    "\n",
    "<p>Another language you use each day is your mother tongue, which you use to manifest your will and to ponder reality. Computers have their own language, too, called machine language, which is very rudimentary.</p>\n",
    "\n",
    "<strong>Note:</strong> Machine Languages are developed by Humans.\n",
    "\n",
    "## Interpreter and Compiler \n",
    "<ul>\n",
    "    <li>Python is a high-level language intended to be relatively straightforward for humans to read and write and for computers to read and process</li>\n",
    "    <li>Other high-level languages include Java, C++, PHP, Ruby, Basic, Perl, JavaScript, and many more</li>\n",
    "    <li>The actual hardware inside the Central Processing Unit (CPU) does not understand any of these high-level languages</li>\n",
    "    <li>The CPU understands a language we call Machine Language</li>\n",
    "    <pre>001010001110100100101010000001111 <br>111001100000111010100101011011010</pre>\n",
    "    <li>Machine Language seems quite simple on the surface, given that there are only zeros and ones, but its syntax is even more complex than Python</li>\n",
    "    <li>We build various translators to allow programmers to write in high-level languages like Python or JavaScript and these translators convert the programs to machine language for actual execution by the CPU</li>\n",
    "    <li>These programming language translators fall into two general categories: </li>\n",
    "        <ul>\n",
    "            <li>Interpreters</li>\n",
    "            <li>Compliler</li>\n",
    "        </ul>\n",
    "    <li>An interpreter reads the source code of the program as written by the programmer, parses the source code, and <strong>interprets the instructions on the fly</strong></li>\n",
    "    <li>A compiler needs to be handed the entire program in a file, and then it runs a process to translate the high-level source code into machine language </li>\n",
    "    <li>Then the compiler puts the resulting machine language into a file for later execution</li>\n",
    "</ul>\n",
    "\n",
    "## How to get Python and how to get to use it\n",
    "There are several ways to get your own copy of Python 3, depending on the operating system you use. <br><br>\n",
    "<strong>Linux users most probably have Python already installed</strong> - this is the most likely scenario, as Python's infrastructure is intensively used by many Linux OS components. <br><br>\n",
    "<strong>If you're a Linux user, open the terminal/console, and type:</strong>\n",
    "<pre>python3</pre>\n",
    "at the shell prompt, press Enter and wait. <br>\n",
    "If you see something like this:\n",
    "\n",
    "<pre>Python 3.4.5 (default, Jan 12 2017, 02:28:40)\n",
    "[GCC 4.2.1 Compatible Clang 3.7.1 (tags/RELEASE_371/final)] on linux\n",
    "Type \"help\", \"copyright\", \"credits\" or \"license\" for more information.</pre>\n",
    "<strong>If you’re a Window user, open the CMD and type:</strong> <br>\n",
    "py and then press enter. In this case you see something like this:\n",
    "\n",
    "<img src=\"images/cmd-py.png\" alt=\"Enter py in Commond Prompt\">\n"
   ]
  },
  {
   "cell_type": "code",
   "execution_count": 1,
   "id": "68232dbb",
   "metadata": {},
   "outputs": [
    {
     "name": "stdout",
     "output_type": "stream",
     "text": [
      "Hello.. welcome to jupyter\n"
     ]
    }
   ],
   "source": [
    "print(\"Hello.. welcome to jupyter\")"
   ]
  },
  {
   "cell_type": "markdown",
   "id": "225b5845",
   "metadata": {},
   "source": [
    "# Setting Python Environment for Coding\n",
    "\n",
    "## Downloading and Installing Python\n",
    "This is the site to download Python -> <a href=\"https:www.python.org/downloads/\">https:www.python.org/downloads/</a>\n",
    "\n",
    "Because the browser tells the site you've entered the OS you use, the only step you have to take is to click the appropriate Python version you want. <br>\n",
    "\n",
    "In our case, select Python 3. The site always offers you the latest version of it. <br>\n",
    "\n",
    "If you're a <strong>Windows user,</strong> start the downloaded .exe file and follow all the steps. <br>\n",
    "\n",
    "Leave the default settings the installer suggests for now, with one exception - look at the checkbox named  <strong>Add Python 3.x to PATH</strong>and check it. <br>\n",
    "\n",
    "This will make things easier. <br>\n",
    "\n",
    "<img src=\"images/python-downloading.png\" alt=\"OpenEDG Python Downloading\">\n",
    "\n",
    "\n",
    "## Downloading and Installing PyCharm\n",
    "This is the site to install PyCharm -> <a href=\"https://www.jetbrains.com/pycharm/\">https://www.jetbrains.com/pycharm/</a>\n",
    "\n",
    "<img src=\"images/pycharm-downloading.png\" alt=\"PyCharm Downloading\">\n",
    "\n",
    "## Installing Anaconda\n",
    "This is the site to install PyCharm -> <a href=\"https://www.anaconda/\">https://www.anaconda/</a>\n",
    "\n",
    "<img src=\"images/anaconda-downloading.png\" alt=\"Anaconda Downloading and Installation\">\n",
    "\n",
    "\n",
    "## Intro to Jupyter Notebook\n",
    "Jupyter Notebook is a browser-based interpreter that allows us to interactively work with Python\n",
    "\n",
    "<img src=\"images/intro-jupyter-notebook.png\" alt=\"Introduction to Jupyter Notebook\">\n",
    "\n",
    "\n",
    "## Intro to Google Colab\n",
    "Colab notebooks allow you to combine executable code and rich text in a single document, along with images, HTML, LaTeX and more. \n",
    "\n",
    "<img src=\"images/google-colab.png\" alt=\"Introduction to Google Colab\">\n",
    "\n",
    "\n",
    "## GitHub\n",
    "GitHub is a code hosting platform for<strong>version control and collaboration.</strong> It lets you and others work together on projects from anywhere. <br.\n",
    "\n",
    "<strong>Version Control:</strong> Version control, also known as source control, is the practice of tracking and managing changes to software code.\n",
    "\n",
    "This is the site to install PyCharm -> <a href=\"https://www.github.com/\">https://www.github.com/</a>\n",
    "\n",
    "<img src=\"images/github.png\" alt=\"GitHub\">\n",
    "\n",
    "\n",
    "## How to write and run your very first program\n",
    "It is now time to write and run your first Python 3 Program. It will be very simple, for now."
   ]
  },
  {
   "cell_type": "code",
   "execution_count": 1,
   "id": "50ad0941",
   "metadata": {},
   "outputs": [
    {
     "name": "stdout",
     "output_type": "stream",
     "text": [
      "fad\n",
      "fad\n",
      "fad\n",
      "fad\n",
      "fad\n",
      "fad\n",
      "fad\n",
      "fad\n",
      "fad\n",
      "fad\n",
      "fad\n"
     ]
    }
   ],
   "source": [
    "\"\"\"\n",
    "This is a comment\n",
    "written in\n",
    "more than just one line\n",
    "\"\"\"\n",
    "i = 0 \n",
    "while i <= 10: \n",
    "    print(\"fad\") \n",
    "    i+= 1\n",
    "    \n"
   ]
  },
  {
   "cell_type": "markdown",
   "id": "ea422434",
   "metadata": {},
   "source": [
    "# Heading"
   ]
  },
  {
   "cell_type": "markdown",
   "id": "be727962",
   "metadata": {},
   "source": []
  },
  {
   "cell_type": "markdown",
   "id": "b4c75d2f",
   "metadata": {},
   "source": [
    "# adfasdf"
   ]
  },
  {
   "cell_type": "markdown",
   "id": "345033f2",
   "metadata": {},
   "source": [
    "# fasdfasdf"
   ]
  },
  {
   "cell_type": "raw",
   "id": "3f880110",
   "metadata": {},
   "source": [
    "```Python\n",
    "print(\"hello\"\n",
    "```"
   ]
  },
  {
   "cell_type": "markdown",
   "id": "1c9452ac",
   "metadata": {},
   "source": [
    "fasdfasdf"
   ]
  }
 ],
 "metadata": {
  "kernelspec": {
   "display_name": "Python 3 (ipykernel)",
   "language": "python",
   "name": "python3"
  },
  "language_info": {
   "codemirror_mode": {
    "name": "ipython",
    "version": 3
   },
   "file_extension": ".py",
   "mimetype": "text/x-python",
   "name": "python",
   "nbconvert_exporter": "python",
   "pygments_lexer": "ipython3",
   "version": "3.9.12"
  },
  "toc": {
   "base_numbering": 1,
   "nav_menu": {},
   "number_sections": true,
   "sideBar": true,
   "skip_h1_title": false,
   "title_cell": "Table of Contents",
   "title_sidebar": "Contents",
   "toc_cell": false,
   "toc_position": {
    "height": "calc(100% - 180px)",
    "left": "10px",
    "top": "150px",
    "width": "380px"
   },
   "toc_section_display": true,
   "toc_window_display": false
  },
  "varInspector": {
   "cols": {
    "lenName": 16,
    "lenType": 16,
    "lenVar": 40
   },
   "kernels_config": {
    "python": {
     "delete_cmd_postfix": "",
     "delete_cmd_prefix": "del ",
     "library": "var_list.py",
     "varRefreshCmd": "print(var_dic_list())"
    },
    "r": {
     "delete_cmd_postfix": ") ",
     "delete_cmd_prefix": "rm(",
     "library": "var_list.r",
     "varRefreshCmd": "cat(var_dic_list()) "
    }
   },
   "types_to_exclude": [
    "module",
    "function",
    "builtin_function_or_method",
    "instance",
    "_Feature"
   ],
   "window_display": false
  }
 },
 "nbformat": 4,
 "nbformat_minor": 5
}
